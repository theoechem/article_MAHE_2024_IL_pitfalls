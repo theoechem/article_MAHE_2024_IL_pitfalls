{
 "cells": [
  {
   "cell_type": "code",
   "execution_count": 3,
   "metadata": {},
   "outputs": [],
   "source": [
    "from unitpackage.entry import Entry"
   ]
  },
  {
   "cell_type": "markdown",
   "metadata": {},
   "source": [
    "# create unitpckages"
   ]
  },
  {
   "cell_type": "code",
   "execution_count": 4,
   "metadata": {},
   "outputs": [],
   "source": [
    "from pathlib import Path\n",
    "import yaml\n",
    "\n",
    "def create_packages(yaml_file):\n",
    "    csv_file = yaml_file.replace('.meta.yaml', '')\n",
    "\n",
    "    with open(yaml_file, \"rb\") as f:\n",
    "        metadata = yaml.load(f, Loader=yaml.SafeLoader)\n",
    "\n",
    "    fields = metadata[\"figure description\"][\"fields\"]\n",
    "\n",
    "    entry = Entry.from_csv(csvname=csv_file, metadata=metadata, fields=fields)\n",
    "    entry.save(outdir=Path(yaml_file).parent)"
   ]
  },
  {
   "cell_type": "code",
   "execution_count": 5,
   "metadata": {},
   "outputs": [],
   "source": [
    "import glob\n",
    "files = glob.glob('../data/figures/**/**.meta.yaml')\n",
    "for file in files:\n",
    "     create_packages(yaml_file=file)"
   ]
  },
  {
   "cell_type": "code",
   "execution_count": null,
   "metadata": {},
   "outputs": [],
   "source": []
  }
 ],
 "metadata": {
  "kernelspec": {
   "display_name": "unitpackage",
   "language": "python",
   "name": "python3"
  },
  "language_info": {
   "codemirror_mode": {
    "name": "ipython",
    "version": 3
   },
   "file_extension": ".py",
   "mimetype": "text/x-python",
   "name": "python",
   "nbconvert_exporter": "python",
   "pygments_lexer": "ipython3",
   "version": "3.11.8"
  }
 },
 "nbformat": 4,
 "nbformat_minor": 2
}
